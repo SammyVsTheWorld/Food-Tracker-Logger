{
  "cells": [
    {
      "cell_type": "code",
      "execution_count": null,
      "id": "41e48d4f-3bf6-47b5-9b49-ccb833035fb1",
      "metadata": {
        "id": "41e48d4f-3bf6-47b5-9b49-ccb833035fb1"
      },
      "outputs": [],
      "source": [
        "import sqlite3\n",
        "sql_connect = sqlite3.connect('AppDataBase.db')\n",
        "cur = sql_connect.cursor() \n",
        "\n",
        "cur.execute('''CREATE TABLE IF NOT EXISTS app_data (\n",
        "Month TEXT,\n",
        "Day TEXT,\n",
        "Food TEXT\n",
        ")\n",
        "''')\n",
        "sql_connect.commit()\n"
      ]
    },
    {
      "cell_type": "code",
      "execution_count": null,
      "id": "0b74799d-32b5-4f45-90d4-062bc37f9b86",
      "metadata": {
        "tags": [],
        "id": "0b74799d-32b5-4f45-90d4-062bc37f9b86",
        "outputId": "fd91fb6c-dcc7-499b-e690-64da81298cad"
      },
      "outputs": [
        {
          "name": "stdout",
          "output_type": "stream",
          "text": [
            "Requirement already satisfied: pandas in /opt/conda/lib/python3.10/site-packages (1.5.2)\n",
            "Requirement already satisfied: python-dateutil>=2.8.1 in /opt/conda/lib/python3.10/site-packages (from pandas) (2.8.2)\n",
            "Requirement already satisfied: pytz>=2020.1 in /opt/conda/lib/python3.10/site-packages (from pandas) (2022.5)\n",
            "Requirement already satisfied: numpy>=1.21.0 in /opt/conda/lib/python3.10/site-packages (from pandas) (1.23.4)\n",
            "Requirement already satisfied: six>=1.5 in /opt/conda/lib/python3.10/site-packages (from python-dateutil>=2.8.1->pandas) (1.16.0)\n"
          ]
        }
      ],
      "source": [
        "!pip install pandas "
      ]
    },
    {
      "cell_type": "code",
      "execution_count": null,
      "id": "55806b4b-ff36-4032-8caf-513527114ef4",
      "metadata": {
        "id": "55806b4b-ff36-4032-8caf-513527114ef4"
      },
      "outputs": [],
      "source": [
        "import tkinter as tk \n",
        "from tkinter import ttk\n",
        "from tkinter import *"
      ]
    },
    {
      "cell_type": "code",
      "execution_count": null,
      "id": "4ee9371c-b370-4765-b709-15899427442d",
      "metadata": {
        "tags": [],
        "id": "4ee9371c-b370-4765-b709-15899427442d"
      },
      "outputs": [],
      "source": [
        "Window = tk.Tk() #make a window\n",
        "Window.config(bg=\"white\")\n",
        "\n",
        "Month_var = tk.StringVar()\n",
        "food_var = tk.StringVar()\n",
        "day_var = tk.IntVar()\n",
        "\n",
        "label_Month = tk.Label(Window, text = \"Select the month below:\",font = ('Arial', 25, 'bold'))\n",
        "label_Month.config(bg=\"white\")\n",
        "Month_co = ttk.Combobox(Window, width = 30, textvariable = Month_var)\n",
        "Month_co['values'] = ('January', \n",
        "                         'February', \n",
        "                         'March', \n",
        "                         'April' , \n",
        "                         'May', \n",
        "                         'June', \n",
        "                         'August', \n",
        "                         'September', \n",
        "                         'October', \n",
        "                         'November', \n",
        "                         'December')\n",
        "Month_co['state'] = 'readonly'\n",
        "\n",
        "\n",
        "\n",
        "label_day = tk.Label(Window, text = \"Enter the Day number:\", font = ('Arial', 25 , 'bold'))\n",
        "label_day.config(bg=\"white\")\n",
        "day_input = tk.Entry(Window, textvariable = day_var, font = ('Arial', 20,'normal'))\n",
        "\n",
        "label_food = tk.Label(Window, text = \"Enter the food name below:\", font = ('Arial',25,'bold'))\n",
        "label_food.config(bg=\"white\")\n",
        "food_input = tk.Entry(Window, textvariable = food_var, font = ('Arial', 20, 'normal')) \n",
        "\n",
        "def getName():\n",
        "    Month = Month_var.get()\n",
        "    day = int(day_var.get())\n",
        "    food = food_var.get()\n",
        "    \n",
        "    cur.execute(\"INSERT INTO app_data (Month, day, food) VALUES (?,?,?)\", (Month, day, food))\n",
        "\n",
        "    Month_var.set(\"\")\n",
        "    food_var.set(\"\")\n",
        "    day_var.set(\"\")\n",
        "        \n",
        "    popup =tk.Toplevel(Window)\n",
        "    popup.title(\"Popup\")\n",
        "    popup.geometry(\"1000x100\")\n",
        "    popup.config(bg=\"#32CD32\")\n",
        "    popup_label = tk.Label(popup, text =\"Your entry has been recorded.\", font=('Arial', 20, 'normal'))\n",
        "    popup_label.config(bg=\"#32CD32\")\n",
        "    popup_label.pack()                \n",
        "    \n",
        "\n",
        "submit_logo = PhotoImage(file = 'submit.png') \n",
        "submit_button = tk.Button(Window, image = submit_logo, bg =\"green\", fg=\"black\", font=('Arial',12, 'normal'), command = getName, borderwidth = 0 )\n",
        "\n",
        "\n",
        "\n",
        "label_Month.pack()\n",
        "Month_co.pack()\n",
        "\n",
        "label_day.pack()\n",
        "day_input.pack()\n",
        "\n",
        "label_food.pack()\n",
        "food_input.pack()\n",
        "submit_button.pack()\n",
        "Window.mainloop()"
      ]
    },
    {
      "cell_type": "code",
      "execution_count": null,
      "id": "84b1aa23-5199-4255-9dc0-29034385b72d",
      "metadata": {
        "id": "84b1aa23-5199-4255-9dc0-29034385b72d"
      },
      "outputs": [],
      "source": [
        "import pandas as pd \n",
        "pd.read_sql_query('''\n",
        "    SELECT * FROM app_data;\n",
        "    ''', sql_connect)"
      ]
    },
    {
      "cell_type": "code",
      "execution_count": null,
      "id": "a3605436-c4cd-4a04-8202-5a5a1f4dc729",
      "metadata": {
        "id": "a3605436-c4cd-4a04-8202-5a5a1f4dc729"
      },
      "outputs": [],
      "source": []
    }
  ],
  "metadata": {
    "kernelspec": {
      "display_name": "Python 3 (ipykernel)",
      "language": "python",
      "name": "python3"
    },
    "language_info": {
      "codemirror_mode": {
        "name": "ipython",
        "version": 3
      },
      "file_extension": ".py",
      "mimetype": "text/x-python",
      "name": "python",
      "nbconvert_exporter": "python",
      "pygments_lexer": "ipython3",
      "version": "3.10.6"
    },
    "colab": {
      "provenance": []
    }
  },
  "nbformat": 4,
  "nbformat_minor": 5
}